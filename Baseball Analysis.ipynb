{
 "cells": [
  {
   "cell_type": "markdown",
   "metadata": {},
   "source": [
    "# Project 2: Baseball\n",
    "Thomas Burr\n",
    "\n",
    "May 2016"
   ]
  },
  {
   "cell_type": "markdown",
   "metadata": {},
   "source": [
    "## Overview\n",
    "\n"
   ]
  },
  {
   "cell_type": "code",
   "execution_count": 126,
   "metadata": {
    "collapsed": false
   },
   "outputs": [
    {
     "name": "stdout",
     "output_type": "stream",
     "text": [
      "Populating the interactive namespace from numpy and matplotlib\n"
     ]
    }
   ],
   "source": [
    "#Import main packages\n",
    "import numpy as np\n",
    "import pandas as pd\n",
    "import matplotlib as mpl\n",
    "import matplotlib.pyplot as plt\n",
    "import seaborn as sns\n",
    "import math\n",
    "%pylab inline\n"
   ]
  },
  {
   "cell_type": "code",
   "execution_count": 102,
   "metadata": {
    "collapsed": false
   },
   "outputs": [
    {
     "data": {
      "image/jpeg": "[encoded data removed]",
      "text/html": [
       "\n",
       "        <iframe\n",
       "            width=\"400\"\n",
       "            height=\"300\"\n",
       "            src=\"https://www.youtube.com/embed/2ZBh2ZbEo0I\"\n",
       "            frameborder=\"0\"\n",
       "            allowfullscreen\n",
       "        ></iframe>\n",
       "        "
      ],
      "text/plain": [
       "<IPython.lib.display.YouTubeVideo at 0x11c2340d0>"
      ]
     },
     "execution_count": 102,
     "metadata": {},
     "output_type": "execute_result"
    }
   ],
   "source": [
    "from IPython.display import YouTubeVideo\n",
    "YouTubeVideo(\"2ZBh2ZbEo0I\")"
   ]
  },
  {
   "cell_type": "code",
   "execution_count": 103,
   "metadata": {
    "collapsed": false
   },
   "outputs": [],
   "source": [
    "#Import necessary data\n",
    "batting = pd.read_csv(\"https://raw.githubusercontent.com/thomasburr/Udacity-Project-2-Baseball/master/data/Batting.csv\")"
   ]
  },
  {
   "cell_type": "code",
   "execution_count": 104,
   "metadata": {
    "collapsed": false
   },
   "outputs": [
    {
     "data": {
      "text/html": [
       "<div>\n",
       "<table border=\"1\" class=\"dataframe\">\n",
       "  <thead>\n",
       "    <tr style=\"text-align: right;\">\n",
       "      <th></th>\n",
       "      <th>playerID</th>\n",
       "      <th>yearID</th>\n",
       "      <th>stint</th>\n",
       "      <th>teamID</th>\n",
       "      <th>lgID</th>\n",
       "      <th>G</th>\n",
       "      <th>AB</th>\n",
       "      <th>R</th>\n",
       "      <th>H</th>\n",
       "      <th>2B</th>\n",
       "      <th>...</th>\n",
       "      <th>RBI</th>\n",
       "      <th>SB</th>\n",
       "      <th>CS</th>\n",
       "      <th>BB</th>\n",
       "      <th>SO</th>\n",
       "      <th>IBB</th>\n",
       "      <th>HBP</th>\n",
       "      <th>SH</th>\n",
       "      <th>SF</th>\n",
       "      <th>GIDP</th>\n",
       "    </tr>\n",
       "  </thead>\n",
       "  <tbody>\n",
       "    <tr>\n",
       "      <th>0</th>\n",
       "      <td>abercda01</td>\n",
       "      <td>1871</td>\n",
       "      <td>1</td>\n",
       "      <td>TRO</td>\n",
       "      <td>NaN</td>\n",
       "      <td>1</td>\n",
       "      <td>4.0</td>\n",
       "      <td>0.0</td>\n",
       "      <td>0.0</td>\n",
       "      <td>0.0</td>\n",
       "      <td>...</td>\n",
       "      <td>0.0</td>\n",
       "      <td>0.0</td>\n",
       "      <td>0.0</td>\n",
       "      <td>0.0</td>\n",
       "      <td>0.0</td>\n",
       "      <td>NaN</td>\n",
       "      <td>NaN</td>\n",
       "      <td>NaN</td>\n",
       "      <td>NaN</td>\n",
       "      <td>NaN</td>\n",
       "    </tr>\n",
       "    <tr>\n",
       "      <th>1</th>\n",
       "      <td>addybo01</td>\n",
       "      <td>1871</td>\n",
       "      <td>1</td>\n",
       "      <td>RC1</td>\n",
       "      <td>NaN</td>\n",
       "      <td>25</td>\n",
       "      <td>118.0</td>\n",
       "      <td>30.0</td>\n",
       "      <td>32.0</td>\n",
       "      <td>6.0</td>\n",
       "      <td>...</td>\n",
       "      <td>13.0</td>\n",
       "      <td>8.0</td>\n",
       "      <td>1.0</td>\n",
       "      <td>4.0</td>\n",
       "      <td>0.0</td>\n",
       "      <td>NaN</td>\n",
       "      <td>NaN</td>\n",
       "      <td>NaN</td>\n",
       "      <td>NaN</td>\n",
       "      <td>NaN</td>\n",
       "    </tr>\n",
       "    <tr>\n",
       "      <th>2</th>\n",
       "      <td>allisar01</td>\n",
       "      <td>1871</td>\n",
       "      <td>1</td>\n",
       "      <td>CL1</td>\n",
       "      <td>NaN</td>\n",
       "      <td>29</td>\n",
       "      <td>137.0</td>\n",
       "      <td>28.0</td>\n",
       "      <td>40.0</td>\n",
       "      <td>4.0</td>\n",
       "      <td>...</td>\n",
       "      <td>19.0</td>\n",
       "      <td>3.0</td>\n",
       "      <td>1.0</td>\n",
       "      <td>2.0</td>\n",
       "      <td>5.0</td>\n",
       "      <td>NaN</td>\n",
       "      <td>NaN</td>\n",
       "      <td>NaN</td>\n",
       "      <td>NaN</td>\n",
       "      <td>NaN</td>\n",
       "    </tr>\n",
       "    <tr>\n",
       "      <th>3</th>\n",
       "      <td>allisdo01</td>\n",
       "      <td>1871</td>\n",
       "      <td>1</td>\n",
       "      <td>WS3</td>\n",
       "      <td>NaN</td>\n",
       "      <td>27</td>\n",
       "      <td>133.0</td>\n",
       "      <td>28.0</td>\n",
       "      <td>44.0</td>\n",
       "      <td>10.0</td>\n",
       "      <td>...</td>\n",
       "      <td>27.0</td>\n",
       "      <td>1.0</td>\n",
       "      <td>1.0</td>\n",
       "      <td>0.0</td>\n",
       "      <td>2.0</td>\n",
       "      <td>NaN</td>\n",
       "      <td>NaN</td>\n",
       "      <td>NaN</td>\n",
       "      <td>NaN</td>\n",
       "      <td>NaN</td>\n",
       "    </tr>\n",
       "    <tr>\n",
       "      <th>4</th>\n",
       "      <td>ansonca01</td>\n",
       "      <td>1871</td>\n",
       "      <td>1</td>\n",
       "      <td>RC1</td>\n",
       "      <td>NaN</td>\n",
       "      <td>25</td>\n",
       "      <td>120.0</td>\n",
       "      <td>29.0</td>\n",
       "      <td>39.0</td>\n",
       "      <td>11.0</td>\n",
       "      <td>...</td>\n",
       "      <td>16.0</td>\n",
       "      <td>6.0</td>\n",
       "      <td>2.0</td>\n",
       "      <td>2.0</td>\n",
       "      <td>1.0</td>\n",
       "      <td>NaN</td>\n",
       "      <td>NaN</td>\n",
       "      <td>NaN</td>\n",
       "      <td>NaN</td>\n",
       "      <td>NaN</td>\n",
       "    </tr>\n",
       "  </tbody>\n",
       "</table>\n",
       "<p>5 rows × 22 columns</p>\n",
       "</div>"
      ],
      "text/plain": [
       "    playerID  yearID  stint teamID lgID   G     AB     R     H    2B  ...   \\\n",
       "0  abercda01    1871      1    TRO  NaN   1    4.0   0.0   0.0   0.0  ...    \n",
       "1   addybo01    1871      1    RC1  NaN  25  118.0  30.0  32.0   6.0  ...    \n",
       "2  allisar01    1871      1    CL1  NaN  29  137.0  28.0  40.0   4.0  ...    \n",
       "3  allisdo01    1871      1    WS3  NaN  27  133.0  28.0  44.0  10.0  ...    \n",
       "4  ansonca01    1871      1    RC1  NaN  25  120.0  29.0  39.0  11.0  ...    \n",
       "\n",
       "    RBI   SB   CS   BB   SO  IBB  HBP  SH  SF  GIDP  \n",
       "0   0.0  0.0  0.0  0.0  0.0  NaN  NaN NaN NaN   NaN  \n",
       "1  13.0  8.0  1.0  4.0  0.0  NaN  NaN NaN NaN   NaN  \n",
       "2  19.0  3.0  1.0  2.0  5.0  NaN  NaN NaN NaN   NaN  \n",
       "3  27.0  1.0  1.0  0.0  2.0  NaN  NaN NaN NaN   NaN  \n",
       "4  16.0  6.0  2.0  2.0  1.0  NaN  NaN NaN NaN   NaN  \n",
       "\n",
       "[5 rows x 22 columns]"
      ]
     },
     "execution_count": 104,
     "metadata": {},
     "output_type": "execute_result"
    }
   ],
   "source": [
    "batting.head()\n",
    "#Batting file is at the player-year level"
   ]
  },
  {
   "cell_type": "code",
   "execution_count": 105,
   "metadata": {
    "collapsed": false
   },
   "outputs": [],
   "source": [
    "#Key stats like IBB, HBP are currently NaN...when is the earliest they appear?\n",
    "yearly_batting = batting.groupby('yearID')\n"
   ]
  },
  {
   "cell_type": "code",
   "execution_count": 106,
   "metadata": {
    "collapsed": false
   },
   "outputs": [
    {
     "data": {
      "text/plain": [
       "Index([u'playerID', u'yearID', u'stint', u'teamID', u'lgID', u'G', u'AB', u'R',\n",
       "       u'H', u'2B', u'3B', u'HR', u'RBI', u'SB', u'CS', u'BB', u'SO', u'IBB',\n",
       "       u'HBP', u'SH', u'SF', u'GIDP'],\n",
       "      dtype='object')"
      ]
     },
     "execution_count": 106,
     "metadata": {},
     "output_type": "execute_result"
    }
   ],
   "source": [
    "batting.columns\n",
    "#We have most of the types we would need...excpet for ABs..."
   ]
  },
  {
   "cell_type": "code",
   "execution_count": 107,
   "metadata": {
    "collapsed": false
   },
   "outputs": [],
   "source": [
    "#Need to rename some columns to remove things like '2B'\n",
    "\n",
    "batting = batting.rename(columns = {'2B': \"double\",'3B':\"triple\"})"
   ]
  },
  {
   "cell_type": "code",
   "execution_count": 108,
   "metadata": {
    "collapsed": false
   },
   "outputs": [
    {
     "data": {
      "text/plain": [
       "Index([u'playerID', u'yearID', u'stint', u'teamID', u'lgID', u'G', u'AB', u'R',\n",
       "       u'H', u'double', u'triple', u'HR', u'RBI', u'SB', u'CS', u'BB', u'SO',\n",
       "       u'IBB', u'HBP', u'SH', u'SF', u'GIDP'],\n",
       "      dtype='object')"
      ]
     },
     "execution_count": 108,
     "metadata": {},
     "output_type": "execute_result"
    }
   ],
   "source": [
    "batting = batting.query(\"lgID == 'AL' or lgID == 'NL'\")\n",
    "batting = batting.fillna(value=0)\n",
    "batting.columns"
   ]
  },
  {
   "cell_type": "code",
   "execution_count": 116,
   "metadata": {
    "collapsed": false
   },
   "outputs": [],
   "source": [
    "#Plate Appearances = ABs + Walks + HBP + Sacrifice Flies + Sacrifice Hits\n",
    "batting = batting.assign(PA = batting.AB + batting.BB + batting.HBP + batting.SF + batting.SH)\n",
    "\n",
    "#On Base Percentage = (H + BB + HBP)/ (AB + BB + HBP + SF)\n",
    "batting = batting.assign(OBP = (batting.H + batting.BB +batting.HBP)/(batting.AB + batting.BB + batting.HBP + batting.SF))\n",
    "\n",
    "#Need Singles\n",
    "batting = batting.assign(single = batting.H - batting.double - batting.triple - batting.HR)\n",
    "\n",
    "#Slugging\n",
    "\n",
    "batting = batting.assign(SLG = (batting.single + 2 * batting.double + 3 * batting.triple + 4 * batting.HR)/batting.AB)\n",
    "\n",
    "#OPS\n",
    "\n",
    "batting = batting.assign(OPS = batting.SLG + batting.OBP)\n",
    "\n",
    "#Getting NaNs for the early years since SH, SF, IBP, HBP not defined...how early does that go?"
   ]
  },
  {
   "cell_type": "code",
   "execution_count": 119,
   "metadata": {
    "collapsed": false
   },
   "outputs": [
    {
     "ename": "IndentationError",
     "evalue": "unexpected indent (<ipython-input-119-c8083e7e3a2b>, line 4)",
     "output_type": "error",
     "traceback": [
      "\u001b[0;36m  File \u001b[0;32m\"<ipython-input-119-c8083e7e3a2b>\"\u001b[0;36m, line \u001b[0;32m4\u001b[0m\n\u001b[0;31m    pd.set_option('display.max_rows', len(x))\u001b[0m\n\u001b[0m    ^\u001b[0m\n\u001b[0;31mIndentationError\u001b[0m\u001b[0;31m:\u001b[0m unexpected indent\n"
     ]
    }
   ],
   "source": [
    "#yearly_batting = batting.groupby('yearID')\n",
    "\n",
    "#def print_full(x):\n",
    "    pd.set_option('display.max_rows', len(x))\n",
    "    print(x)\n",
    "    pd.reset_option('display.max_rows')\n",
    "    \n",
    "#print_full( yearly_batting['OPS'].mean())"
   ]
  },
  {
   "cell_type": "code",
   "execution_count": 120,
   "metadata": {
    "collapsed": true
   },
   "outputs": [],
   "source": [
    "qualified_batters = batting.query('AB > 500')"
   ]
  },
  {
   "cell_type": "code",
   "execution_count": 121,
   "metadata": {
    "collapsed": false
   },
   "outputs": [
    {
     "data": {
      "text/html": [
       "<div>\n",
       "<table border=\"1\" class=\"dataframe\">\n",
       "  <thead>\n",
       "    <tr style=\"text-align: right;\">\n",
       "      <th></th>\n",
       "      <th>playerID</th>\n",
       "      <th>yearID</th>\n",
       "      <th>stint</th>\n",
       "      <th>teamID</th>\n",
       "      <th>lgID</th>\n",
       "      <th>G</th>\n",
       "      <th>AB</th>\n",
       "      <th>R</th>\n",
       "      <th>H</th>\n",
       "      <th>double</th>\n",
       "      <th>...</th>\n",
       "      <th>IBB</th>\n",
       "      <th>HBP</th>\n",
       "      <th>SH</th>\n",
       "      <th>SF</th>\n",
       "      <th>GIDP</th>\n",
       "      <th>PA</th>\n",
       "      <th>OBP</th>\n",
       "      <th>single</th>\n",
       "      <th>SLG</th>\n",
       "      <th>OPS</th>\n",
       "    </tr>\n",
       "  </thead>\n",
       "  <tbody>\n",
       "    <tr>\n",
       "      <th>2141</th>\n",
       "      <td>dalryab01</td>\n",
       "      <td>1884</td>\n",
       "      <td>1</td>\n",
       "      <td>CHN</td>\n",
       "      <td>NL</td>\n",
       "      <td>111</td>\n",
       "      <td>521.0</td>\n",
       "      <td>111.0</td>\n",
       "      <td>161.0</td>\n",
       "      <td>18.0</td>\n",
       "      <td>...</td>\n",
       "      <td>0.0</td>\n",
       "      <td>0.0</td>\n",
       "      <td>0.0</td>\n",
       "      <td>0.0</td>\n",
       "      <td>0.0</td>\n",
       "      <td>535.0</td>\n",
       "      <td>0.327103</td>\n",
       "      <td>112.0</td>\n",
       "      <td>0.504798</td>\n",
       "      <td>0.831901</td>\n",
       "    </tr>\n",
       "    <tr>\n",
       "      <th>2316</th>\n",
       "      <td>hornujo01</td>\n",
       "      <td>1884</td>\n",
       "      <td>1</td>\n",
       "      <td>BSN</td>\n",
       "      <td>NL</td>\n",
       "      <td>115</td>\n",
       "      <td>518.0</td>\n",
       "      <td>119.0</td>\n",
       "      <td>139.0</td>\n",
       "      <td>27.0</td>\n",
       "      <td>...</td>\n",
       "      <td>0.0</td>\n",
       "      <td>0.0</td>\n",
       "      <td>0.0</td>\n",
       "      <td>0.0</td>\n",
       "      <td>0.0</td>\n",
       "      <td>535.0</td>\n",
       "      <td>0.291589</td>\n",
       "      <td>95.0</td>\n",
       "      <td>0.399614</td>\n",
       "      <td>0.691203</td>\n",
       "    </tr>\n",
       "    <tr>\n",
       "      <th>3103</th>\n",
       "      <td>ansonca01</td>\n",
       "      <td>1886</td>\n",
       "      <td>1</td>\n",
       "      <td>CHN</td>\n",
       "      <td>NL</td>\n",
       "      <td>125</td>\n",
       "      <td>504.0</td>\n",
       "      <td>117.0</td>\n",
       "      <td>187.0</td>\n",
       "      <td>35.0</td>\n",
       "      <td>...</td>\n",
       "      <td>0.0</td>\n",
       "      <td>0.0</td>\n",
       "      <td>0.0</td>\n",
       "      <td>0.0</td>\n",
       "      <td>0.0</td>\n",
       "      <td>559.0</td>\n",
       "      <td>0.432916</td>\n",
       "      <td>131.0</td>\n",
       "      <td>0.543651</td>\n",
       "      <td>0.976567</td>\n",
       "    </tr>\n",
       "    <tr>\n",
       "      <th>3377</th>\n",
       "      <td>richaha01</td>\n",
       "      <td>1886</td>\n",
       "      <td>1</td>\n",
       "      <td>DTN</td>\n",
       "      <td>NL</td>\n",
       "      <td>125</td>\n",
       "      <td>538.0</td>\n",
       "      <td>125.0</td>\n",
       "      <td>189.0</td>\n",
       "      <td>27.0</td>\n",
       "      <td>...</td>\n",
       "      <td>0.0</td>\n",
       "      <td>0.0</td>\n",
       "      <td>0.0</td>\n",
       "      <td>0.0</td>\n",
       "      <td>0.0</td>\n",
       "      <td>584.0</td>\n",
       "      <td>0.402397</td>\n",
       "      <td>140.0</td>\n",
       "      <td>0.503717</td>\n",
       "      <td>0.906115</td>\n",
       "    </tr>\n",
       "    <tr>\n",
       "      <th>3425</th>\n",
       "      <td>thompsa01</td>\n",
       "      <td>1886</td>\n",
       "      <td>1</td>\n",
       "      <td>DTN</td>\n",
       "      <td>NL</td>\n",
       "      <td>122</td>\n",
       "      <td>503.0</td>\n",
       "      <td>101.0</td>\n",
       "      <td>156.0</td>\n",
       "      <td>18.0</td>\n",
       "      <td>...</td>\n",
       "      <td>0.0</td>\n",
       "      <td>0.0</td>\n",
       "      <td>0.0</td>\n",
       "      <td>0.0</td>\n",
       "      <td>0.0</td>\n",
       "      <td>538.0</td>\n",
       "      <td>0.355019</td>\n",
       "      <td>117.0</td>\n",
       "      <td>0.445328</td>\n",
       "      <td>0.800347</td>\n",
       "    </tr>\n",
       "  </tbody>\n",
       "</table>\n",
       "<p>5 rows × 27 columns</p>\n",
       "</div>"
      ],
      "text/plain": [
       "       playerID  yearID  stint teamID lgID    G     AB      R      H  double  \\\n",
       "2141  dalryab01    1884      1    CHN   NL  111  521.0  111.0  161.0    18.0   \n",
       "2316  hornujo01    1884      1    BSN   NL  115  518.0  119.0  139.0    27.0   \n",
       "3103  ansonca01    1886      1    CHN   NL  125  504.0  117.0  187.0    35.0   \n",
       "3377  richaha01    1886      1    DTN   NL  125  538.0  125.0  189.0    27.0   \n",
       "3425  thompsa01    1886      1    DTN   NL  122  503.0  101.0  156.0    18.0   \n",
       "\n",
       "        ...     IBB  HBP   SH   SF  GIDP     PA       OBP  single       SLG  \\\n",
       "2141    ...     0.0  0.0  0.0  0.0   0.0  535.0  0.327103   112.0  0.504798   \n",
       "2316    ...     0.0  0.0  0.0  0.0   0.0  535.0  0.291589    95.0  0.399614   \n",
       "3103    ...     0.0  0.0  0.0  0.0   0.0  559.0  0.432916   131.0  0.543651   \n",
       "3377    ...     0.0  0.0  0.0  0.0   0.0  584.0  0.402397   140.0  0.503717   \n",
       "3425    ...     0.0  0.0  0.0  0.0   0.0  538.0  0.355019   117.0  0.445328   \n",
       "\n",
       "           OPS  \n",
       "2141  0.831901  \n",
       "2316  0.691203  \n",
       "3103  0.976567  \n",
       "3377  0.906115  \n",
       "3425  0.800347  \n",
       "\n",
       "[5 rows x 27 columns]"
      ]
     },
     "execution_count": 121,
     "metadata": {},
     "output_type": "execute_result"
    }
   ],
   "source": [
    "qualified_batters.head()"
   ]
  },
  {
   "cell_type": "code",
   "execution_count": 132,
   "metadata": {
    "collapsed": false
   },
   "outputs": [
    {
     "name": "stdout",
     "output_type": "stream",
     "text": [
      "yearID\n",
      "1884    0.761552\n",
      "1886    0.894343\n",
      "1887    0.812514\n",
      "1888    0.676281\n",
      "1889    0.748762\n",
      "1890    0.737472\n",
      "1891    0.720361\n",
      "1892    0.688564\n",
      "1893    0.789306\n",
      "1894    0.858482\n",
      "1895    0.830703\n",
      "1896    0.820120\n",
      "1897    0.833014\n",
      "1898    0.715698\n",
      "1899    0.762562\n",
      "1900    0.773191\n",
      "1901    0.764556\n",
      "1902    0.735902\n",
      "1903    0.733776\n",
      "1904    0.674460\n",
      "1905    0.686967\n",
      "1906    0.684961\n",
      "1907    0.669353\n",
      "1908    0.672229\n",
      "1909    0.699640\n",
      "1910    0.722657\n",
      "1911    0.757949\n",
      "1912    0.766794\n",
      "1913    0.737684\n",
      "1914    0.709814\n",
      "1915    0.706412\n",
      "1916    0.709802\n",
      "1917    0.717574\n",
      "1918    0.708376\n",
      "1919    0.744514\n",
      "1920    0.772770\n",
      "1921    0.816936\n",
      "1922    0.801889\n",
      "1923    0.813553\n",
      "1924    0.801503\n",
      "1925    0.845328\n",
      "1926    0.796256\n",
      "1927    0.814736\n",
      "1928    0.808032\n",
      "1929    0.861276\n",
      "1930    0.888615\n",
      "1931    0.818237\n",
      "1932    0.818284\n",
      "1933    0.764633\n",
      "1934    0.825959\n",
      "1935    0.806893\n",
      "1936    0.828897\n",
      "1937    0.824465\n",
      "1938    0.821303\n",
      "1939    0.809442\n",
      "1940    0.806748\n",
      "1941    0.787265\n",
      "1942    0.751296\n",
      "1943    0.724366\n",
      "1944    0.755221\n",
      "1945    0.738812\n",
      "1946    0.799062\n",
      "1947    0.783422\n",
      "1948    0.814746\n",
      "1949    0.811990\n",
      "1950    0.829608\n",
      "1951    0.807336\n",
      "1952    0.780285\n",
      "1953    0.792324\n",
      "1954    0.799871\n",
      "1955    0.809807\n",
      "1956    0.809528\n",
      "1957    0.799814\n",
      "1958    0.796869\n",
      "1959    0.810667\n",
      "1960    0.777901\n",
      "1961    0.810009\n",
      "1962    0.783300\n",
      "1963    0.747181\n",
      "1964    0.769685\n",
      "1965    0.762412\n",
      "1966    0.757262\n",
      "1967    0.741841\n",
      "1968    0.723591\n",
      "1969    0.772840\n",
      "1970    0.785434\n",
      "1971    0.753925\n",
      "1972    0.738093\n",
      "1973    0.766454\n",
      "1974    0.750180\n",
      "1975    0.757181\n",
      "1976    0.737325\n",
      "1977    0.792796\n",
      "1978    0.755195\n",
      "1979    0.779047\n",
      "1980    0.769794\n",
      "1982    0.771855\n",
      "1983    0.766966\n",
      "1984    0.774893\n",
      "1985    0.770527\n",
      "1986    0.777337\n",
      "1987    0.810518\n",
      "1988    0.761820\n",
      "1989    0.750037\n",
      "1990    0.761429\n",
      "1991    0.782143\n",
      "1992    0.766748\n",
      "1993    0.799963\n",
      "1995    0.832701\n",
      "1996    0.840554\n",
      "1997    0.818454\n",
      "1998    0.827246\n",
      "1999    0.858367\n",
      "2000    0.850296\n",
      "2001    0.841894\n",
      "2002    0.804542\n",
      "2003    0.824797\n",
      "2004    0.824360\n",
      "2005    0.811325\n",
      "2006    0.823686\n",
      "2007    0.816598\n",
      "2008    0.811787\n",
      "2009    0.821171\n",
      "2010    0.795330\n",
      "2011    0.787440\n",
      "2012    0.789554\n",
      "2013    0.775458\n",
      "2014    0.762735\n",
      "2015    0.780075\n",
      "Name: OPS, dtype: float64\n"
     ]
    }
   ],
   "source": [
    "yearly_batting_qualified = qualified_batters.groupby('yearID')\n",
    "\n",
    "print_full( yearly_batting_qualified['OPS'].mean())\n",
    "\n"
   ]
  },
  {
   "cell_type": "code",
   "execution_count": 164,
   "metadata": {
    "collapsed": false
   },
   "outputs": [],
   "source": [
    "yearly_batting = batting.groupby('yearID')\n",
    "yearly_agg = (yearly_batting.agg({\"yearID\": \"count\",\n",
    "                                  \"AB\" : \"sum\",\n",
    "                                  \"H\" : 'sum',\n",
    "                                  \"BB\": 'sum',\n",
    "                                  \"HBP\": 'sum',\n",
    "                                  \"SF\": 'sum',\n",
    "                                  'SH': 'sum',\n",
    "                                  'single':'sum',\n",
    "                                  'double': 'sum',\n",
    "                                  'triple': 'sum',\n",
    "                                  'HR': 'sum'}))"
   ]
  },
  {
   "cell_type": "code",
   "execution_count": 165,
   "metadata": {
    "collapsed": false
   },
   "outputs": [],
   "source": [
    "yearly_agg['BA'] = yearly_agg['H'] / yearly_agg['AB']"
   ]
  },
  {
   "cell_type": "code",
   "execution_count": 159,
   "metadata": {
    "collapsed": false
   },
   "outputs": [
    {
     "name": "stdout",
     "output_type": "stream",
     "text": [
      "              AB       BB        H      SF  yearID      SH     HBP       OBP  \\\n",
      "yearID                                                                         \n",
      "1876     20121.0    336.0   5338.0     0.0     124     0.0     0.0  0.277362   \n",
      "1877     13667.0    345.0   3705.0     0.0      97     0.0     0.0  0.289038   \n",
      "1878     13644.0    364.0   3539.0     0.0      80     0.0     0.0  0.278626   \n",
      "1879     24155.0    508.0   6171.0     0.0     127     0.0     0.0  0.270811   \n",
      "1880     24301.0    740.0   5946.0     0.0     135     0.0     0.0  0.267002   \n",
      "1881     24377.0   1033.0   6339.0     0.0     132     0.0     0.0  0.290122   \n",
      "1882     24769.0    960.0   6225.0     0.0     126     0.0     0.0  0.279257   \n",
      "1883     29012.0   1121.0   7611.0     0.0     133     0.0     0.0  0.289782   \n",
      "1884     32687.0   1821.0   8071.0     0.0     167     0.0     0.0  0.286658   \n",
      "1885     31123.0   1845.0   7516.0     0.0     181     0.0     0.0  0.283942   \n",
      "1886     33997.0   2372.0   8524.0     0.0     165     0.0     0.0  0.299596   \n",
      "1887     35812.0   2733.0   9624.0     0.0     163     0.0   317.0  0.326128   \n",
      "1888     37456.0   2093.0   8943.0     0.0     176     0.0   318.0  0.284797   \n",
      "1889     37538.0   3612.0   9922.0     0.0     169     0.0   302.0  0.333784   \n",
      "1890     37587.0   3773.0   9538.0     0.0     198     0.0   429.0  0.328795   \n",
      "1891     38998.0   3804.0   9844.0     0.0     182     0.0   402.0  0.325201   \n",
      "1892     63876.0   6178.0  15630.0     0.0     310     0.0   561.0  0.316774   \n",
      "1893     56898.0   6143.0  15913.0     0.0     286     0.0   639.0  0.356391   \n",
      "1894     57143.0   5807.0  17662.0     0.0     294     0.0   602.0  0.378761   \n",
      "1895     56576.0   5101.0  16763.0     0.0     305   993.0   668.0  0.361408   \n",
      "1896     55571.0   4854.0  16136.0     0.0     295  1163.0   636.0  0.354170   \n",
      "1897     56538.0   4716.0  16499.0     0.0     280  1130.0   746.0  0.354210   \n",
      "1898     62661.0   5092.0  16955.0     0.0     323  1346.0   865.0  0.333907   \n",
      "1899     62714.0   4972.0  17707.0     0.0     348  1319.0   866.0  0.343462   \n",
      "1900     39132.0   3034.0  10925.0     0.0     195   806.0   513.0  0.339089   \n",
      "1901     77105.0   5465.0  20957.0     0.0     412  1672.0   830.0  0.326763   \n",
      "1902     76157.0   5435.0  20318.0     0.0     455  1832.0   712.0  0.321552   \n",
      "1903     75439.0   5369.0  19776.0     0.0     400  2019.0   729.0  0.317328   \n",
      "1904     82488.0   5580.0  20363.0     0.0     406  2219.0   777.0  0.300748   \n",
      "1905     81844.0   6189.0  20300.0     0.0     407  2504.0   818.0  0.307335   \n",
      "1906     80061.0   6169.0  19742.0     0.0     437  2698.0   728.0  0.306343   \n",
      "1907     80304.0   6101.0  19700.0     0.0     446  2581.0   739.0  0.304553   \n",
      "1908     80680.0   5860.0  19279.0     0.0     470  3230.0   771.0  0.296755   \n",
      "1909     80612.0   6505.0  19655.0     0.0     543  3116.0   764.0  0.306369   \n",
      "1910     81543.0   7419.0  20332.0     0.0     538  3020.0   791.0  0.318006   \n",
      "1911     82261.0   7838.0  21914.0     0.0     567  2884.0   844.0  0.336431   \n",
      "1912     82039.0   7683.0  22039.0     0.0     630  2765.0   717.0  0.336569   \n",
      "1913     81216.0   7267.0  21021.0     0.0     616  2541.0   702.0  0.325055   \n",
      "1914     81589.0   7520.0  20339.0     0.0     566  2821.0   689.0  0.317914   \n",
      "1915     81192.0   7483.0  20145.0     0.0     555  2961.0   728.0  0.317171   \n",
      "1916     81923.0   7076.0  20285.0     0.0     565  2829.0   640.0  0.312375   \n",
      "1917     82055.0   6910.0  20391.0     0.0     516  3079.0   579.0  0.311355   \n",
      "1918     67315.0   5749.0  17085.0     0.0     506  2446.0   461.0  0.316831   \n",
      "1919     74671.0   5982.0  19624.0     0.0     534  2718.0   531.0  0.321948   \n",
      "1920     84178.0   6820.0  23275.0     0.0     515  3042.0   561.0  0.334822   \n",
      "1921     85172.0   6847.0  24782.0     0.0     520  2986.0   551.0  0.347629   \n",
      "1922     85346.0   7253.0  24613.0     0.0     513  2958.0   598.0  0.348337   \n",
      "1923     85229.0   7563.0  24218.0     0.0     530  2733.0   605.0  0.346756   \n",
      "1924     84666.0   7364.0  24271.0     0.0     547  2705.0   553.0  0.347666   \n",
      "1925     85432.0   7744.0  24914.0     0.0     557  2555.0   495.0  0.353930   \n",
      "1926     83752.0   7703.0  23505.0     0.0     526  3200.0   484.0  0.344707   \n",
      "1927     84461.0   7445.0  23960.0     0.0     541  3183.0   482.0  0.345142   \n",
      "1928     84480.0   7665.0  23736.0     0.0     530  2985.0   454.0  0.344010   \n",
      "1929     85210.0   7992.0  24642.0     0.0     530  2713.0   407.0  0.352968   \n",
      "1930     86571.0   7654.0  25597.0     0.0     531  2606.0   408.0  0.355679   \n",
      "1931     86624.0   7679.0  24046.0     0.0     509  1437.0   381.0  0.339086   \n",
      "1932     87182.0   7549.0  24106.0     0.0     527  1479.0   367.0  0.336726   \n",
      "1933     85222.0   7344.0  22969.0     0.0     491  1698.0   351.0  0.330015   \n",
      "1934     85911.0   7855.0  23962.0     0.0     521  1455.0   342.0  0.341724   \n",
      "1935     86437.0   7834.0  24074.0     0.0     513  1549.0   382.0  0.341141   \n",
      "1936     87638.0   8418.0  24863.0     0.0     511  1415.0   413.0  0.349273   \n",
      "1937     85963.0   8443.0  23769.0     0.0     526  1420.0   322.0  0.343446   \n",
      "1938     85013.0   8632.0  23293.0     0.0     530  1354.0   348.0  0.343355   \n",
      "1939     84879.0   8478.0  23371.0     0.0     579  2192.0   353.0  0.343635   \n",
      "1940     86003.0   8273.0  23002.0     0.0     541  1266.0   358.0  0.334267   \n",
      "1941     85854.0   8886.0  22531.0     0.0     582  1432.0   312.0  0.333807   \n",
      "1942     83731.0   8393.0  21176.0     0.0     539  1473.0   339.0  0.323459   \n",
      "1943     84701.0   8361.0  21467.0     0.0     557  1683.0   327.0  0.322897   \n",
      "1944     85665.0   7930.0  22307.0     0.0     569  1693.0   349.0  0.325577   \n",
      "1945     84447.0   8299.0  21977.0     0.0     579  1681.0   361.0  0.329052   \n",
      "1946     84333.0   8800.0  21555.0     0.0     682  1622.0   316.0  0.328211   \n",
      "1947     84436.0   9217.0  22003.0     0.0     582  1406.0   317.0  0.335607   \n",
      "1948     84411.0   9623.0  22234.0     0.0     573  1416.0   342.0  0.341178   \n",
      "1949     84380.0  10027.0  22168.0     0.0     573  1408.0   375.0  0.343631   \n",
      "1950     84823.0   9955.0  22559.0     0.0     577  1249.0   436.0  0.346063   \n",
      "1951     85065.0   9244.0  22191.0     0.0     616  1240.0   449.0  0.336478   \n",
      "1952     84195.0   8777.0  21272.0     0.0     632  1354.0   482.0  0.326695   \n",
      "1953     84997.0   8682.0  22459.0     0.0     586  1245.0   487.0  0.335875   \n",
      "1954     83936.0   9032.0  21908.0   795.0     576  1332.0   441.0  0.333117   \n",
      "1955     83590.0   9044.0  21610.0   698.0     655  1187.0   506.0  0.332062   \n",
      "1956     83856.0   8997.0  21653.0   644.0     621  1253.0   481.0  0.331258   \n",
      "1957     84906.0   8167.0  21865.0   687.0     615  1115.0   511.0  0.323991   \n",
      "1958     83827.0   8127.0  21621.0   644.0     638  1046.0   499.0  0.324898   \n",
      "1959     84294.0   8184.0  21636.0   616.0     632  1127.0   496.0  0.323923   \n",
      "1960     84014.0   8384.0  21434.0   692.0     637  1193.0   488.0  0.323858   \n",
      "1961     97032.0   9897.0  25066.0   761.0     698  1305.0   573.0  0.328238   \n",
      "1962    110688.0  10936.0  28521.0   846.0     760  1361.0   709.0  0.326078   \n",
      "1963    109814.0   9591.0  27043.0   769.0     752  1448.0   714.0  0.308947   \n",
      "1964    110464.0   9621.0  27669.0   739.0     754  1462.0   694.0  0.312579   \n",
      "1965    109739.0  10036.0  26952.0   766.0     751  1488.0   720.0  0.310966   \n",
      "1966    109467.0   9331.0  27207.0   742.0     774  1455.0   682.0  0.309594   \n",
      "1967    109205.0   9665.0  26464.0   738.0     786  1480.0   751.0  0.306417   \n",
      "1968    108622.0   9156.0  25710.0   753.0     715  1507.0   778.0  0.298754   \n",
      "1969    131287.0  13429.0  32581.0   914.0     932  1669.0   882.0  0.320056   \n",
      "1970    132140.0  13727.0  33555.0   990.0     919  1630.0   825.0  0.325747   \n",
      "1971    130544.0  12536.0  32547.0   987.0     883  1802.0   821.0  0.316824   \n",
      "1972    124828.0  11727.0  30434.0   883.0     888  1758.0   751.0  0.310531   \n",
      "1973    132363.0  13100.0  34010.0  1009.0     892  1550.0   755.0  0.325110   \n",
      "1974    132256.0  12963.0  33969.0  1104.0     914  1734.0   774.0  0.324317   \n",
      "1975    131473.0  13402.0  33863.0  1087.0     907  1873.0   761.0  0.327324   \n",
      "1976    131525.0  12391.0  33598.0  1183.0     886  1793.0   684.0  0.320154   \n",
      "1977    143974.0  13757.0  38037.0  1231.0     984  1764.0   791.0  0.329164   \n",
      "1978    141567.0  13566.0  36508.0  1274.0     960  1986.0   772.0  0.323491   \n",
      "1979    142792.0  13601.0  37911.0  1314.0     961  1896.0   754.0  0.329835   \n",
      "1980    144160.0  13190.0  38144.0  1296.0     950  1883.0   657.0  0.326365   \n",
      "1981     94467.0   8868.0  24157.0   829.0     944  1252.0   464.0  0.320077   \n",
      "1982    144149.0  13302.0  37651.0  1221.0     992  1740.0   677.0  0.324006   \n",
      "1983    143538.0  13518.0  37443.0  1256.0    1006  1561.0   717.0  0.324960   \n",
      "1984    143829.0  13320.0  37381.0  1286.0     984  1435.0   668.0  0.322866   \n",
      "1985    143075.0  13838.0  36778.0  1144.0     998  1549.0   699.0  0.323232   \n",
      "1986    143106.0  14227.0  36880.0  1175.0    1017  1515.0   812.0  0.325879   \n",
      "1987    144095.0  14389.0  37895.0  1110.0    1048  1455.0   842.0  0.331135   \n",
      "1988    142568.0  12984.0  36244.0  1265.0    1035  1630.0   918.0  0.317913   \n",
      "1989    142821.0  13528.0  36293.0  1240.0    1073  1626.0   801.0  0.319604   \n",
      "1990    142768.0  13852.0  36817.0  1261.0    1115  1559.0   861.0  0.324615   \n",
      "1991    142968.0  13984.0  36558.0  1249.0    1086  1624.0   905.0  0.323350   \n",
      "1992    142895.0  13682.0  36544.0  1294.0    1066  1665.0   980.0  0.322352   \n",
      "1993    154995.0  15110.0  41088.0  1430.0    1180  1811.0  1200.0  0.332289   \n",
      "1994    110266.0  11131.0  29743.0   992.0    1030  1207.0   876.0  0.338701   \n",
      "1995    138571.0  14240.0  36975.0  1173.0    1253  1488.0  1219.0  0.337841   \n",
      "1996    156801.0  16093.0  42320.0  1400.0    1253  1544.0  1404.0  0.340454   \n",
      "1997    155438.0  15666.0  41471.0  1383.0    1236  1577.0  1449.0  0.336825   \n",
      "1998    167116.0  16447.0  44489.0  1402.0    1322  1705.0  1587.0  0.335151   \n",
      "1999    167136.0  17891.0  45327.0  1464.0    1299  1605.0  1579.0  0.344537   \n",
      "2000    167290.0  18237.0  45246.0  1514.0    1384  1628.0  1573.0  0.344916   \n",
      "2001    166234.0  15806.0  43879.0  1424.0    1339  1607.0  1890.0  0.332202   \n",
      "2002    165582.0  16246.0  43272.0  1399.0    1319  1633.0  1746.0  0.331205   \n",
      "2003    166737.0  15889.0  44057.0  1336.0    1347  1626.0  1849.0  0.332569   \n",
      "2004    167353.0  16222.0  44522.0  1363.0    1346  1731.0  1850.0  0.335107   \n",
      "2005    166335.0  15207.0  43991.0  1315.0    1330  1620.0  1797.0  0.330320   \n",
      "2006    167341.0  15847.0  45073.0  1396.0    1378  1651.0  1817.0  0.336570   \n",
      "2007    167783.0  16079.0  44977.0  1441.0    1385  1540.0  1755.0  0.335784   \n",
      "2008    166714.0  16337.0  43972.0  1365.0    1385  1526.0  1672.0  0.333074   \n",
      "2009    165849.0  16620.0  43524.0  1366.0    1388  1635.0  1590.0  0.332932   \n",
      "2010    165353.0  15778.0  42554.0  1301.0    1356  1544.0  1549.0  0.325474   \n",
      "2011    165705.0  15018.0  42267.0  1274.0    1389  1667.0  1554.0  0.320559   \n",
      "2012    165251.0  14709.0  42063.0  1223.0    1408  1479.0  1494.0  0.318956   \n",
      "2013    166070.0  14640.0  42093.0  1219.0    1409  1383.0  1536.0  0.317603   \n",
      "2014    165614.0  14020.0  41595.0  1277.0    1435  1343.0  1652.0  0.313683   \n",
      "2015    165488.0  14073.0  42106.0  1232.0    1486  1200.0  1602.0  0.316790   \n",
      "\n",
      "              BA  \n",
      "yearID            \n",
      "1876    0.265295  \n",
      "1877    0.271091  \n",
      "1878    0.259381  \n",
      "1879    0.255475  \n",
      "1880    0.244681  \n",
      "1881    0.260040  \n",
      "1882    0.251322  \n",
      "1883    0.262340  \n",
      "1884    0.246918  \n",
      "1885    0.241493  \n",
      "1886    0.250728  \n",
      "1887    0.268737  \n",
      "1888    0.238760  \n",
      "1889    0.264319  \n",
      "1890    0.253758  \n",
      "1891    0.252423  \n",
      "1892    0.244693  \n",
      "1893    0.279676  \n",
      "1894    0.309084  \n",
      "1895    0.296292  \n",
      "1896    0.290367  \n",
      "1897    0.291821  \n",
      "1898    0.270583  \n",
      "1899    0.282345  \n",
      "1900    0.279183  \n",
      "1901    0.271798  \n",
      "1902    0.266791  \n",
      "1903    0.262146  \n",
      "1904    0.246860  \n",
      "1905    0.248033  \n",
      "1906    0.246587  \n",
      "1907    0.245318  \n",
      "1908    0.238956  \n",
      "1909    0.243822  \n",
      "1910    0.249341  \n",
      "1911    0.266396  \n",
      "1912    0.268641  \n",
      "1913    0.258828  \n",
      "1914    0.249286  \n",
      "1915    0.248116  \n",
      "1916    0.247611  \n",
      "1917    0.248504  \n",
      "1918    0.253807  \n",
      "1919    0.262806  \n",
      "1920    0.276497  \n",
      "1921    0.290964  \n",
      "1922    0.288391  \n",
      "1923    0.284152  \n",
      "1924    0.286668  \n",
      "1925    0.291624  \n",
      "1926    0.280650  \n",
      "1927    0.283681  \n",
      "1928    0.280966  \n",
      "1929    0.289191  \n",
      "1930    0.295676  \n",
      "1931    0.277591  \n",
      "1932    0.276502  \n",
      "1933    0.269520  \n",
      "1934    0.278917  \n",
      "1935    0.278515  \n",
      "1936    0.283701  \n",
      "1937    0.276503  \n",
      "1938    0.273993  \n",
      "1939    0.275345  \n",
      "1940    0.267456  \n",
      "1941    0.262434  \n",
      "1942    0.252905  \n",
      "1943    0.253444  \n",
      "1944    0.260398  \n",
      "1945    0.260246  \n",
      "1946    0.255594  \n",
      "1947    0.260588  \n",
      "1948    0.263402  \n",
      "1949    0.262716  \n",
      "1950    0.265954  \n",
      "1951    0.260871  \n",
      "1952    0.252652  \n",
      "1953    0.264233  \n",
      "1954    0.261008  \n",
      "1955    0.258524  \n",
      "1956    0.258216  \n",
      "1957    0.257520  \n",
      "1958    0.257924  \n",
      "1959    0.256673  \n",
      "1960    0.255124  \n",
      "1961    0.258327  \n",
      "1962    0.257670  \n",
      "1963    0.246262  \n",
      "1964    0.250480  \n",
      "1965    0.245601  \n",
      "1966    0.248541  \n",
      "1967    0.242333  \n",
      "1968    0.236692  \n",
      "1969    0.248166  \n",
      "1970    0.253935  \n",
      "1971    0.249318  \n",
      "1972    0.243807  \n",
      "1973    0.256945  \n",
      "1974    0.256843  \n",
      "1975    0.257566  \n",
      "1976    0.255450  \n",
      "1977    0.264194  \n",
      "1978    0.257885  \n",
      "1979    0.265498  \n",
      "1980    0.264595  \n",
      "1981    0.255719  \n",
      "1982    0.261195  \n",
      "1983    0.260858  \n",
      "1984    0.259899  \n",
      "1985    0.257054  \n",
      "1986    0.257711  \n",
      "1987    0.262986  \n",
      "1988    0.254223  \n",
      "1989    0.254115  \n",
      "1990    0.257880  \n",
      "1991    0.255708  \n",
      "1992    0.255740  \n",
      "1993    0.265092  \n",
      "1994    0.269739  \n",
      "1995    0.266831  \n",
      "1996    0.269896  \n",
      "1997    0.266801  \n",
      "1998    0.266216  \n",
      "1999    0.271198  \n",
      "2000    0.270464  \n",
      "2001    0.263959  \n",
      "2002    0.261333  \n",
      "2003    0.264230  \n",
      "2004    0.266036  \n",
      "2005    0.264472  \n",
      "2006    0.269348  \n",
      "2007    0.268066  \n",
      "2008    0.263757  \n",
      "2009    0.262431  \n",
      "2010    0.257352  \n",
      "2011    0.255074  \n",
      "2012    0.254540  \n",
      "2013    0.253465  \n",
      "2014    0.251156  \n",
      "2015    0.254435  \n"
     ]
    }
   ],
   "source": [
    "print_full(yearly_agg)"
   ]
  },
  {
   "cell_type": "code",
   "execution_count": 166,
   "metadata": {
    "collapsed": false
   },
   "outputs": [
    {
     "data": {
      "text/plain": [
       "<matplotlib.axes._subplots.AxesSubplot at 0x129f09710>"
      ]
     },
     "execution_count": 166,
     "metadata": {},
     "output_type": "execute_result"
    },
    {
     "data": {
      "image/png": "[encoded data removed]",
      "text/plain": [
       "<matplotlib.figure.Figure at 0x129eee3d0>"
      ]
     },
     "metadata": {},
     "output_type": "display_data"
    }
   ],
   "source": [
    "yearly_agg['BA'].plot()\n"
   ]
  },
  {
   "cell_type": "code",
   "execution_count": 167,
   "metadata": {
    "collapsed": false
   },
   "outputs": [],
   "source": [
    "#On Base Percentage = (H + BB + HBP)/ (AB + BB + HBP + SF)\n",
    "yearly_agg = yearly_agg.assign(OBP = (yearly_agg.H + yearly_agg.BB + yearly_agg.HBP)/(yearly_agg.AB + yearly_agg.BB + yearly_agg.HBP + yearly_agg.SF))\n"
   ]
  },
  {
   "cell_type": "code",
   "execution_count": 168,
   "metadata": {
    "collapsed": false
   },
   "outputs": [
    {
     "data": {
      "text/plain": [
       "<matplotlib.axes._subplots.AxesSubplot at 0x129f5dc10>"
      ]
     },
     "execution_count": 168,
     "metadata": {},
     "output_type": "execute_result"
    },
    {
     "data": {
      "image/png": "[encoded data removed]",
      "text/plain": [
       "<matplotlib.figure.Figure at 0x129b2c750>"
      ]
     },
     "metadata": {},
     "output_type": "display_data"
    }
   ],
   "source": [
    "yearly_agg['BA'].plot()\n",
    "yearly_agg['OBP'].plot()"
   ]
  },
  {
   "cell_type": "code",
   "execution_count": 169,
   "metadata": {
    "collapsed": true
   },
   "outputs": [],
   "source": [
    "yearly_agg['obp_spread'] = yearly_agg['OBP'] - yearly_agg['BA']"
   ]
  },
  {
   "cell_type": "code",
   "execution_count": 170,
   "metadata": {
    "collapsed": false
   },
   "outputs": [
    {
     "data": {
      "text/plain": [
       "<matplotlib.axes._subplots.AxesSubplot at 0x130215b10>"
      ]
     },
     "execution_count": 170,
     "metadata": {},
     "output_type": "execute_result"
    },
    {
     "data": {
      "image/png": "[encoded data removed]",
      "text/plain": [
       "<matplotlib.figure.Figure at 0x129f667d0>"
      ]
     },
     "metadata": {},
     "output_type": "display_data"
    }
   ],
   "source": [
    "yearly_agg['obp_spread'].plot()"
   ]
  },
  {
   "cell_type": "code",
   "execution_count": 171,
   "metadata": {
    "collapsed": true
   },
   "outputs": [],
   "source": [
    "yearly_agg = yearly_agg.assign(SLG = (yearly_agg.single + 2 * yearly_agg.double + 3 * yearly_agg.triple + 4 * yearly_agg.HR)/yearly_agg.AB)\n"
   ]
  },
  {
   "cell_type": "code",
   "execution_count": 172,
   "metadata": {
    "collapsed": false
   },
   "outputs": [
    {
     "data": {
      "text/plain": [
       "<matplotlib.axes._subplots.AxesSubplot at 0x1304e8650>"
      ]
     },
     "execution_count": 172,
     "metadata": {},
     "output_type": "execute_result"
    },
    {
     "data": {
      "image/png": "[encoded data removed]",
      "text/plain": [
       "<matplotlib.figure.Figure at 0x1304fa810>"
      ]
     },
     "metadata": {},
     "output_type": "display_data"
    }
   ],
   "source": [
    "yearly_agg['SLG'].plot()"
   ]
  },
  {
   "cell_type": "code",
   "execution_count": null,
   "metadata": {
    "collapsed": true
   },
   "outputs": [],
   "source": []
  }
 ],
 "metadata": {
  "kernelspec": {
   "display_name": "Python 2",
   "language": "python",
   "name": "python2"
  },
  "language_info": {
   "codemirror_mode": {
    "name": "ipython",
    "version": 2
   },
   "file_extension": ".py",
   "mimetype": "text/x-python",
   "name": "python",
   "nbconvert_exporter": "python",
   "pygments_lexer": "ipython2",
   "version": "2.7.11"
  }
 },
 "nbformat": 4,
 "nbformat_minor": 0
}
